{
 "cells": [
  {
   "cell_type": "markdown",
   "metadata": {},
   "source": [
    "# Heat equation"
   ]
  },
  {
   "cell_type": "markdown",
   "metadata": {},
   "source": [
    "## imports"
   ]
  },
  {
   "cell_type": "code",
   "execution_count": 1,
   "metadata": {},
   "outputs": [],
   "source": [
    "import numpy as np\n",
    "import pandas as pd\n",
    "import scipy"
   ]
  },
  {
   "cell_type": "code",
   "execution_count": 2,
   "metadata": {},
   "outputs": [],
   "source": [
    "import matplotlib.pyplot as plt\n",
    "import tqdm\n",
    "from tqdm import tqdm_notebook\n",
    "from IPython.display import HTML"
   ]
  },
  {
   "cell_type": "markdown",
   "metadata": {},
   "source": [
    "## initialization"
   ]
  },
  {
   "cell_type": "markdown",
   "metadata": {},
   "source": [
    "<img src=\"task2.png\">"
   ]
  },
  {
   "cell_type": "code",
   "execution_count": 77,
   "metadata": {},
   "outputs": [
    {
     "name": "stdout",
     "output_type": "stream",
     "text": [
      "Which type of problem do you need? '1' or '2' \n",
      "1\n"
     ]
    }
   ],
   "source": [
    "problem = input(\"Which type of problem do you need? '1' or '2' \\n\")"
   ]
  },
  {
   "cell_type": "code",
   "execution_count": 78,
   "metadata": {},
   "outputs": [],
   "source": [
    "X_max = 1\n",
    "Y_max = 1\n",
    "X_min = Y_min = 0\n",
    "\n",
    "NUMBER_X = 50\n",
    "NUMBER_Y = 50\n",
    "DELTA = 0.25"
   ]
  },
  {
   "cell_type": "code",
   "execution_count": 79,
   "metadata": {},
   "outputs": [],
   "source": [
    "# testing\n",
    "X_RANGE = np.linspace(X_min, X_max, NUMBER_X+1)\n",
    "Y_RANGE = np.linspace(Y_min, Y_max, NUMBER_Y+1)\n",
    "\n",
    "X_STEP = X_RANGE[1] - X_RANGE[0]\n",
    "Y_STEP = Y_RANGE[1] - Y_RANGE[0]\n",
    "\n",
    "X, Y = np.meshgrid(X_RANGE, Y_RANGE, indexing='ij')\n",
    "\n",
    "Y_RATIO = (Y - Y_min) / (Y_max - Y_min)\n",
    "X_RATIO = (X - X_min) / (X_max - X_min)\n",
    "\n",
    "source = np.zeros_like(X)\n",
    "source_coef_old = np.zeros_like(X)\n",
    "source_coef_new = np.zeros_like(X)\n",
    "\n",
    "source = np.exp( -1 * (\n",
    "        (X - (X_max / 2)) ** 2 + \n",
    "        (Y - (Y_max / 2)) ** 2) / (DELTA ** 2))\n"
   ]
  },
  {
   "cell_type": "code",
   "execution_count": 80,
   "metadata": {},
   "outputs": [
    {
     "name": "stdout",
     "output_type": "stream",
     "text": [
      "CPU times: user 4.96 ms, sys: 897 µs, total: 5.86 ms\n",
      "Wall time: 5.42 ms\n"
     ]
    }
   ],
   "source": [
    "%%time\n",
    "for m in range(1, NUMBER_Y - 1):\n",
    "    source_coef_old[:, m] = 2 / NUMBER_Y * (source * np.sin(np.pi * m * Y_RATIO))[:,1:-1].sum(axis=1)"
   ]
  },
  {
   "cell_type": "code",
   "execution_count": 81,
   "metadata": {},
   "outputs": [
    {
     "name": "stdout",
     "output_type": "stream",
     "text": [
      "CPU times: user 185 ms, sys: 2.61 ms, total: 188 ms\n",
      "Wall time: 187 ms\n"
     ]
    }
   ],
   "source": [
    "%%time\n",
    "\n",
    "for m in range(1, NUMBER_Y - 1):\n",
    "    for i in range(0, NUMBER_X):\n",
    "        summa = 0\n",
    "        for j in range(1, NUMBER_Y - 1):\n",
    "            summa += source[i, j] * np.sin(np.pi * m * j / NUMBER_Y)\n",
    "        source_coef_new[i, m] = 2 / NUMBER_Y * summa"
   ]
  },
  {
   "cell_type": "code",
   "execution_count": 82,
   "metadata": {},
   "outputs": [
    {
     "data": {
      "text/plain": [
       "array([[ 0.  ,  0.  , -0.  , ..., -0.  ,  0.  ,  0.  ],\n",
       "       [ 0.  ,  0.  , -0.  , ..., -0.  ,  0.  ,  0.  ],\n",
       "       [ 0.  ,  0.  , -0.  , ..., -0.  ,  0.  ,  0.  ],\n",
       "       ...,\n",
       "       [ 0.  ,  0.  , -0.  , ..., -0.  ,  0.  ,  0.  ],\n",
       "       [ 0.  ,  0.  , -0.  , ..., -0.  ,  0.  ,  0.  ],\n",
       "       [ 0.  ,  0.01,  0.  , ..., -0.  ,  0.  ,  0.  ]])"
      ]
     },
     "execution_count": 82,
     "metadata": {},
     "output_type": "execute_result"
    }
   ],
   "source": [
    "(source_coef_old - source_coef_new).round(2)"
   ]
  },
  {
   "cell_type": "code",
   "execution_count": 83,
   "metadata": {},
   "outputs": [
    {
     "data": {
      "text/plain": [
       "0.0708"
      ]
     },
     "execution_count": 83,
     "metadata": {},
     "output_type": "execute_result"
    }
   ],
   "source": [
    "np.isclose(source_coef_old, source_coef_new).sum() /  (NUMBER_X * NUMBER_Y)"
   ]
  },
  {
   "cell_type": "code",
   "execution_count": 84,
   "metadata": {},
   "outputs": [],
   "source": [
    "def calculate_all(NUMBER_X, NUMBER_Y):\n",
    "    X_RANGE = np.linspace(X_min, X_max, NUMBER_X+1)\n",
    "    Y_RANGE = np.linspace(Y_min, Y_max, NUMBER_Y+1)\n",
    "\n",
    "    X_STEP = X_RANGE[1] - X_RANGE[0]\n",
    "    Y_STEP = Y_RANGE[1] - Y_RANGE[0]\n",
    "\n",
    "    X, Y = np.meshgrid(X_RANGE, Y_RANGE, indexing='ij')\n",
    "\n",
    "    Y_RATIO = (Y - Y_min) / (Y_max - Y_min - Y_STEP)\n",
    "    X_RATIO = (X - X_min) / (X_max - X_min - X_STEP)\n",
    "\n",
    "    U = np.zeros_like(X)\n",
    "    U_coef = np.zeros_like(X)\n",
    "\n",
    "    source = np.zeros_like(X)\n",
    "    source_coef = np.zeros_like(X)\n",
    "    \n",
    "    alpha = np.zeros_like(X_RANGE)\n",
    "    beta = np.zeros_like(X_RANGE)\n",
    "\n",
    "    source = np.exp( -1 * (\n",
    "            (X - (X_max / 2)) ** 2 + \n",
    "            (Y - (Y_max / 2)) ** 2) / (DELTA ** 2))\n",
    "    \n",
    "    if problem == '1':\n",
    "        U_LOWER = 0         # lower bound\n",
    "        U_UPPER = 0         # upper bound\n",
    "        Q_LEFT  = 0         # left bound\n",
    "        U_RIGHT = 0         # right bound\n",
    "\n",
    "        alpha[1] = 1\n",
    "        beta[1] = Q_LEFT\n",
    "        U[-1, :] = U_RIGHT\n",
    "\n",
    "    elif problem == '2':\n",
    "        U_LOWER = 0         # lower bound\n",
    "        U_UPPER = 0         # upper bound\n",
    "        U_LEFT  = 0         # left bound\n",
    "        U_RIGHT = 0         # right bound\n",
    "\n",
    "        U[-1, :] = U_RIGHT\n",
    "        U[0, :]  = U_LEFT\n",
    "        U[:, -1] = U_UPPER\n",
    "        U[:, 0]  = U_LOWER\n",
    "\n",
    "    else:\n",
    "        raise ValueError('wrong problem type')\n",
    "    \n",
    "    for m in range(1, NUMBER_Y - 1):\n",
    "        for i in range(0, NUMBER_X):\n",
    "            summa = 0\n",
    "            for j in range(1, NUMBER_Y - 1):\n",
    "                summa += source[i, j] * np.sin(np.pi * m * j / NUMBER_Y)\n",
    "            source_coef[i, m] = 2 / NUMBER_Y * summa\n",
    "\n",
    "    lambdas = 4 * np.square(np.sin(np.pi * Y_RATIO[0, :] / 2))\n",
    "    \n",
    "    if problem == '1':\n",
    "        for j in tqdm.tnrange(0, NUMBER_Y - 1):\n",
    "            alpha, beta = calculate_coefficients(alpha, beta, source_coef[:, j+1], lambdas[j+1], X_STEP, Y_STEP)\n",
    "\n",
    "            for i in reversed(range(0, NUMBER_X - 1)):\n",
    "                U_coef[i, j+1] = alpha[i+1] * U_coef[i+1, j+1] + beta[i+1]\n",
    "\n",
    "    elif problem == '2':\n",
    "        phi = np.zeros_like(source_coef)\n",
    "        v = np.zeros_like(source_coef)\n",
    "        gammas = 4 * np.square(np.sin(np.pi * X_RATIO[:, 0] / 2))\n",
    "\n",
    "        G, L = np.meshgrid(gammas, lambdas, indexing='ij')\n",
    "        \n",
    "        for l in range(1, NUMBER_X - 1):\n",
    "            for m in range(1, NUMBER_Y - 1):\n",
    "                summa = 0\n",
    "                for i in range(1, NUMBER_X - 1):\n",
    "                    summa += source_coef[i, m] * np.sin(np.pi * l * i / NUMBER_X)\n",
    "                phi[l, m] = 2 / NUMBER_X * summa\n",
    "\n",
    "        with np.errstate(divide='ignore', invalid='ignore'):\n",
    "            v = phi / (G / (X_STEP ** 2) + L / (Y_STEP ** 2))\n",
    "        v[np.isnan(v)] = 1e10\n",
    "        \n",
    "        for i in range(1, NUMBER_X - 1):\n",
    "            for m in range(1, NUMBER_Y - 1):\n",
    "                summa = 0\n",
    "                for l in range(1, NUMBER_X - 1):\n",
    "                    summa += v[l, m] * np.sin(np.pi * l * i / NUMBER_X)\n",
    "                U_coef[i, m] = summa\n",
    "                \n",
    "    else:\n",
    "        raise ValueError('wrong problem type')\n",
    "        \n",
    "    for j in range(1, NUMBER_Y - 1):\n",
    "        for i in range(0, NUMBER_X):\n",
    "            summa = 0\n",
    "            for m in range(1, NUMBER_Y - 1):\n",
    "                summa += U_coef[i, m] * np.sin(np.pi * j * m / NUMBER_Y)\n",
    "            U[i, j] = summa\n",
    "\n",
    "        \n",
    "    return U\n",
    "    \n",
    "def calculate_coefficients(alpha, beta, s, lam, X_STEP, Y_STEP):\n",
    "    a = b = 1 / (X_STEP ** 2)\n",
    "    c = 2 / (X_STEP ** 2) + lam / (Y_STEP ** 2)\n",
    "    d = s\n",
    "    \n",
    "    for i in range(1, len(s) - 1):\n",
    "        alpha[i+1] = b / (c - alpha[i] * a)\n",
    "        beta [i+1] = (a * beta[i] + d[i]) / (c - alpha[i] * a)\n",
    "\n",
    "    return alpha, beta\n",
    "\n",
    "\n",
    "def heatmap2d(arr: np.ndarray, interpolation=None):\n",
    "    plt.imshow(arr.T, cmap='hot', interpolation=interpolation)\n",
    "    plt.colorbar()\n",
    "    plt.xlabel('x')\n",
    "    plt.ylabel('y')\n",
    "    plt.title('Temperature map')\n",
    "    ax = plt.gca()\n",
    "    ax.invert_yaxis()"
   ]
  },
  {
   "cell_type": "markdown",
   "metadata": {},
   "source": [
    "## boundary conditions"
   ]
  },
  {
   "cell_type": "markdown",
   "metadata": {},
   "source": [
    "## main procedure"
   ]
  },
  {
   "cell_type": "code",
   "execution_count": 85,
   "metadata": {},
   "outputs": [
    {
     "data": {
      "application/vnd.jupyter.widget-view+json": {
       "model_id": "98286b2c2cda4a13bb354468f66522d9",
       "version_major": 2,
       "version_minor": 0
      },
      "text/plain": [
       "HBox(children=(IntProgress(value=0, max=49), HTML(value='')))"
      ]
     },
     "metadata": {},
     "output_type": "display_data"
    },
    {
     "name": "stdout",
     "output_type": "stream",
     "text": [
      "\n"
     ]
    }
   ],
   "source": [
    "U = calculate_all(NUMBER_X, NUMBER_Y)"
   ]
  },
  {
   "cell_type": "markdown",
   "metadata": {},
   "source": [
    "## vizualization"
   ]
  },
  {
   "cell_type": "code",
   "execution_count": 86,
   "metadata": {},
   "outputs": [
    {
     "data": {
      "image/png": "[encoded data removed]",
      "text/plain": [
       "<Figure size 1080x576 with 2 Axes>"
      ]
     },
     "metadata": {
      "needs_background": "light"
     },
     "output_type": "display_data"
    }
   ],
   "source": [
    "fig, ax = plt.subplots(figsize=(15, 8))\n",
    "heatmap2d(U)\n",
    "\n",
    "ticks = ax.get_xticks()\n",
    "ax.set_xticklabels([str(int(X_min + x * (X_max - X_min) // (NUMBER_X)))\n",
    "                    for x in ticks])\n",
    "\n",
    "ticks = ax.get_yticks()\n",
    "ax.set_yticklabels([str(int(Y_min + x * (Y_max - Y_min) // (NUMBER_Y)))\n",
    "                    for x in ticks]);"
   ]
  },
  {
   "cell_type": "markdown",
   "metadata": {},
   "source": [
    "## accuracy"
   ]
  },
  {
   "cell_type": "code",
   "execution_count": 87,
   "metadata": {},
   "outputs": [
    {
     "data": {
      "application/vnd.jupyter.widget-view+json": {
       "model_id": "d2e52e1b05814892aa85dcdd9d8c95a6",
       "version_major": 2,
       "version_minor": 0
      },
      "text/plain": [
       "HBox(children=(IntProgress(value=0, max=49), HTML(value='')))"
      ]
     },
     "metadata": {},
     "output_type": "display_data"
    },
    {
     "name": "stdout",
     "output_type": "stream",
     "text": [
      "\n"
     ]
    },
    {
     "data": {
      "application/vnd.jupyter.widget-view+json": {
       "model_id": "db3409cf4d044bd187674b3aa14a03fd",
       "version_major": 2,
       "version_minor": 0
      },
      "text/plain": [
       "HBox(children=(IntProgress(value=0, max=99), HTML(value='')))"
      ]
     },
     "metadata": {},
     "output_type": "display_data"
    },
    {
     "name": "stdout",
     "output_type": "stream",
     "text": [
      "\n"
     ]
    },
    {
     "data": {
      "application/vnd.jupyter.widget-view+json": {
       "model_id": "decf13facd3f4556949538b98f858a95",
       "version_major": 2,
       "version_minor": 0
      },
      "text/plain": [
       "HBox(children=(IntProgress(value=0, max=199), HTML(value='')))"
      ]
     },
     "metadata": {},
     "output_type": "display_data"
    },
    {
     "name": "stdout",
     "output_type": "stream",
     "text": [
      "\n"
     ]
    }
   ],
   "source": [
    "U_result = np.repeat(np.zeros_like(U)[np.newaxis, :, :], 3, axis=0)\n",
    "U_clean = np.zeros_like(U)\n",
    "for h in [1,2,4]:\n",
    "    number_x = NUMBER_X * h\n",
    "    number_y = NUMBER_Y * h\n",
    "    U = calculate_all(number_x, number_y)\n",
    "    U_result[int(np.log2(h)), :, :] = U[::h, ::h]"
   ]
  },
  {
   "cell_type": "code",
   "execution_count": 88,
   "metadata": {},
   "outputs": [
    {
     "data": {
      "text/plain": [
       "2.150592422062053"
      ]
     },
     "execution_count": 88,
     "metadata": {},
     "output_type": "execute_result"
    }
   ],
   "source": [
    "L = (np.abs(U_result[0] - U_result[1])).max() / (np.abs(U_result[2] - U_result[1])).max()\n",
    "np.log2(L)"
   ]
  },
  {
   "cell_type": "code",
   "execution_count": 89,
   "metadata": {},
   "outputs": [
    {
     "data": {
      "image/png": "[encoded data removed]",
      "text/plain": [
       "<Figure size 432x288 with 2 Axes>"
      ]
     },
     "metadata": {
      "needs_background": "light"
     },
     "output_type": "display_data"
    }
   ],
   "source": [
    "heatmap2d(np.abs(U_result[0] - U_result[1]))"
   ]
  },
  {
   "cell_type": "code",
   "execution_count": null,
   "metadata": {},
   "outputs": [],
   "source": []
  }
 ],
 "metadata": {
  "kernelspec": {
   "display_name": "Python 3",
   "language": "python",
   "name": "python3"
  },
  "language_info": {
   "codemirror_mode": {
    "name": "ipython",
    "version": 3
   },
   "file_extension": ".py",
   "mimetype": "text/x-python",
   "name": "python",
   "nbconvert_exporter": "python",
   "pygments_lexer": "ipython3",
   "version": "3.7.7"
  }
 },
 "nbformat": 4,
 "nbformat_minor": 2
}
