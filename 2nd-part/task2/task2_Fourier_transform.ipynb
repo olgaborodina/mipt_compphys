{
 "cells": [
  {
   "cell_type": "markdown",
   "metadata": {},
   "source": [
    "# Heat equation"
   ]
  },
  {
   "cell_type": "markdown",
   "metadata": {},
   "source": [
    "## imports"
   ]
  },
  {
   "cell_type": "code",
   "execution_count": 1,
   "metadata": {},
   "outputs": [],
   "source": [
    "import numpy as np\n",
    "import pandas as pd\n",
    "import scipy"
   ]
  },
  {
   "cell_type": "code",
   "execution_count": 2,
   "metadata": {},
   "outputs": [],
   "source": [
    "import matplotlib.pyplot as plt\n",
    "from tqdm import tqdm_notebook"
   ]
  },
  {
   "cell_type": "markdown",
   "metadata": {},
   "source": [
    "## initialization"
   ]
  },
  {
   "cell_type": "code",
   "execution_count": 3,
   "metadata": {},
   "outputs": [],
   "source": [
    "X_max = 50\n",
    "Y_max = 70\n",
    "X_min = Y_min = 0\n",
    "\n",
    "NUMBER_X = 50\n",
    "NUMBER_Y = 70\n",
    "DELTA = 30"
   ]
  },
  {
   "cell_type": "code",
   "execution_count": 4,
   "metadata": {},
   "outputs": [],
   "source": [
    "X_RANGE = np.linspace(X_min, X_max, NUMBER_X)\n",
    "Y_RANGE = np.linspace(Y_min, Y_max, NUMBER_Y)\n",
    "\n",
    "X_STEP = X_RANGE[1] - X_RANGE[0]\n",
    "Y_STEP = Y_RANGE[1] - Y_RANGE[0]"
   ]
  },
  {
   "cell_type": "code",
   "execution_count": 5,
   "metadata": {},
   "outputs": [],
   "source": [
    "X, Y = np.meshgrid(X_RANGE, Y_RANGE, indexing='ij')\n",
    "\n",
    "U = np.zeros_like(X)\n",
    "U_coef = np.zeros_like(X)\n",
    "\n",
    "source = np.zeros_like(X)\n",
    "source_coef = np.zeros_like(X)\n",
    "\n",
    "alpha = np.zeros_like(X_RANGE)\n",
    "beta = np.zeros_like(X_RANGE)"
   ]
  },
  {
   "cell_type": "code",
   "execution_count": 6,
   "metadata": {},
   "outputs": [],
   "source": [
    "source = np.exp(- ((X - int(X_max / 2 - 1)) ** 2 + (Y - int(Y_max / 2 - 1)) ** 2) / DELTA ** 2)"
   ]
  },
  {
   "cell_type": "code",
   "execution_count": 7,
   "metadata": {},
   "outputs": [],
   "source": [
    "def calculate_coefficients(alpha, beta, s, lam):\n",
    "    \n",
    "    a = b  = 1 / X_STEP ** 2\n",
    "    c = 2 / X_STEP ** 2 + lam / Y_STEP ** 2\n",
    "    d = s\n",
    "    \n",
    "    for i in range(1, len(s)-1):\n",
    "        alpha[i+1] = b / (c - alpha[i] * a)\n",
    "        beta[i+1] = (a * beta[i] + d[i]) / (c - alpha[i] * a)\n",
    "    return alpha, beta\n",
    "\n",
    "def heatmap2d(arr: np.ndarray, interpolation=None):\n",
    "    \n",
    "    plt.imshow(arr.T, cmap='hot', interpolation=interpolation)\n",
    "    plt.colorbar()\n",
    "    plt.xlabel('x')\n",
    "    plt.ylabel('y')\n",
    "    plt.title('Temperature map')\n",
    "    ax = plt.gca()\n",
    "    ax.invert_yaxis()"
   ]
  },
  {
   "cell_type": "markdown",
   "metadata": {},
   "source": [
    "## boundary conditions"
   ]
  },
  {
   "cell_type": "code",
   "execution_count": 8,
   "metadata": {},
   "outputs": [],
   "source": [
    "U_LOWER = 0         # lower bound\n",
    "U_UPPER = 0         # upper bound\n",
    "Q_LEFT  = 0         # left bound\n",
    "U_RIGHT = 0         # right bound\n",
    "\n",
    "alpha[1] = 1\n",
    "beta[1] = Q_LEFT\n",
    "U[-1,:] = U_RIGHT"
   ]
  },
  {
   "cell_type": "markdown",
   "metadata": {},
   "source": [
    "## main procedure"
   ]
  },
  {
   "cell_type": "code",
   "execution_count": 9,
   "metadata": {},
   "outputs": [],
   "source": [
    "for m in range(1, NUMBER_Y-1):\n",
    "    source_coef[:,m] = 2 / NUMBER_Y * (source * np.sin(np.pi * m * Y / (Y_max - Y_min))).sum(axis=1)\n",
    "\n",
    "lambdas = 4 * (np.sin(np.pi * np.arange(1, NUMBER_Y) / 2 / NUMBER_Y)) ** 2 "
   ]
  },
  {
   "cell_type": "code",
   "execution_count": 10,
   "metadata": {},
   "outputs": [
    {
     "data": {
      "application/vnd.jupyter.widget-view+json": {
       "model_id": "af5d2a8dee1e4a5784f321f5e1c9c6b8",
       "version_major": 2,
       "version_minor": 0
      },
      "text/plain": [
       "HBox(children=(IntProgress(value=0, max=69), HTML(value='')))"
      ]
     },
     "metadata": {},
     "output_type": "display_data"
    },
    {
     "name": "stdout",
     "output_type": "stream",
     "text": [
      "\n"
     ]
    }
   ],
   "source": [
    "for j in tqdm_notebook(list(range(0, NUMBER_Y-1))):\n",
    "    alpha, beta = calculate_coefficients(alpha, beta, source[:,j], lambdas[j])\n",
    "\n",
    "    for i in reversed(range(0, NUMBER_X-1)):\n",
    "        U_coef[i, j+1] = alpha[i+1] * U_coef[i+1, j+1] + beta[i+1]"
   ]
  },
  {
   "cell_type": "code",
   "execution_count": 11,
   "metadata": {},
   "outputs": [],
   "source": [
    "for j in range(0, NUMBER_Y-1):\n",
    "    U[:,j] = (U_coef * np.sin(np.pi * j * Y / (Y_max - Y_min))).sum(axis=1)"
   ]
  },
  {
   "cell_type": "markdown",
   "metadata": {},
   "source": [
    "## vizualization"
   ]
  },
  {
   "cell_type": "code",
   "execution_count": 12,
   "metadata": {},
   "outputs": [
    {
     "data": {
      "image/png": "[encoded data removed]",
      "text/plain": [
       "<Figure size 1080x576 with 2 Axes>"
      ]
     },
     "metadata": {
      "needs_background": "light"
     },
     "output_type": "display_data"
    }
   ],
   "source": [
    "fig, ax = plt.subplots(figsize=(15, 8))\n",
    "heatmap2d(U)\n",
    "\n",
    "ticks = ax.get_xticks()\n",
    "ax.set_xticklabels([str(int(X_min + x * (X_max - X_min) // (NUMBER_X)))\n",
    "                    for x in ticks])\n",
    "\n",
    "ticks = ax.get_yticks()\n",
    "ax.set_yticklabels([str(int(Y_min + x * (Y_max - Y_min) // (NUMBER_Y)))\n",
    "                    for x in ticks]);"
   ]
  },
  {
   "cell_type": "code",
   "execution_count": null,
   "metadata": {},
   "outputs": [],
   "source": []
  }
 ],
 "metadata": {
  "kernelspec": {
   "display_name": "Python 3",
   "language": "python",
   "name": "python3"
  },
  "language_info": {
   "codemirror_mode": {
    "name": "ipython",
    "version": 3
   },
   "file_extension": ".py",
   "mimetype": "text/x-python",
   "name": "python",
   "nbconvert_exporter": "python",
   "pygments_lexer": "ipython3",
   "version": "3.7.7"
  }
 },
 "nbformat": 4,
 "nbformat_minor": 2
}
