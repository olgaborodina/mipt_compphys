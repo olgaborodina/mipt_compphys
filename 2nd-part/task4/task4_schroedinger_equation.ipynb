{
 "cells": [
  {
   "cell_type": "markdown",
   "metadata": {},
   "source": [
    "# Wave propagation (hyperbolic PDE)"
   ]
  },
  {
   "cell_type": "markdown",
   "metadata": {},
   "source": [
    "## libs"
   ]
  },
  {
   "cell_type": "code",
   "execution_count": 1,
   "metadata": {},
   "outputs": [],
   "source": [
    "import numpy as np\n",
    "import pandas as pd\n",
    "import matplotlib.pyplot as plt\n",
    "from tqdm import tqdm_notebook\n",
    "from matplotlib import animation\n",
    "from IPython.display import HTML"
   ]
  },
  {
   "cell_type": "markdown",
   "metadata": {},
   "source": [
    "## initialization"
   ]
  },
  {
   "cell_type": "code",
   "execution_count": 74,
   "metadata": {},
   "outputs": [],
   "source": [
    "COURANT = 0.7\n",
    "X_max = 1\n",
    "X_min = - X_max\n",
    "T_min = 0\n",
    "\n",
    "NUMBER_X = 100\n",
    "NUMBER_T = 200\n",
    "\n",
    "T_max =  COURANT * (X_max - X_min) * NUMBER_T / NUMBER_X + T_min"
   ]
  },
  {
   "cell_type": "code",
   "execution_count": 115,
   "metadata": {},
   "outputs": [],
   "source": [
    "def create_arrays(number_x, number_t):\n",
    "    X_RANGE = np.linspace(X_min, X_max, number_x + 1)\n",
    "    T_RANGE = np.linspace(T_min, T_max, number_t + 1)\n",
    "\n",
    "    X_STEP = X_RANGE[1] - X_RANGE[0]\n",
    "    T_STEP = T_RANGE[1] - T_RANGE[0]\n",
    "    X, T = np.meshgrid(X_RANGE, T_RANGE, indexing='ij')\n",
    "    return X, T\n",
    "\n",
    "    \n",
    "def animation_plot(E):\n",
    "    T_STEP = T[0, 1] - T[0, 0]\n",
    "    fig, ax = plt.subplots(figsize=(10, 5))\n",
    "    ax.axis([X_min, X_max, E.min(), E.max()])\n",
    "\n",
    "    l1, = ax.plot(X[:,0], E[:, NUMBER_T - 1], lw=3, color='black', label=NUMBER_T)\n",
    "    l2, = ax.plot(X[:,0], E_exact[:, NUMBER_T - 1], lw=2, color='red')\n",
    "    ax.grid(c='#aaaaaa', ls='--')\n",
    "\n",
    "    ax.set_ylabel(\"f(x)\")\n",
    "    ax.set_xlabel(\"x\")\n",
    "\n",
    "    def animate(i):\n",
    "        l1.set_data(X[:,0], E[:, i])\n",
    "        l1.set_label('t = ' + '%.3f' % (i * T_STEP))\n",
    "        l2.set_data(X[:,0], E_exact[:, i])\n",
    "\n",
    "        legend = plt.legend(loc='upper right')\n",
    "        return l1, l2, legend\n",
    "\n",
    "    ani = animation.FuncAnimation(fig, animate, frames= np.arange(0, NUMBER_T, 5), interval=60)\n",
    "\n",
    "    #ani.save(\"solution.mp4\")\n",
    "    return HTML(ani.to_jshtml())\n"
   ]
  },
  {
   "cell_type": "markdown",
   "metadata": {},
   "source": [
    "## main procedure"
   ]
  },
  {
   "cell_type": "code",
   "execution_count": 116,
   "metadata": {},
   "outputs": [],
   "source": [
    "X, T = create_arrays(NUMBER_X, NUMBER_T)\n"
   ]
  },
  {
   "cell_type": "code",
   "execution_count": null,
   "metadata": {},
   "outputs": [],
   "source": []
  }
 ],
 "metadata": {
  "kernelspec": {
   "display_name": "Python 3",
   "language": "python",
   "name": "python3"
  },
  "language_info": {
   "codemirror_mode": {
    "name": "ipython",
    "version": 3
   },
   "file_extension": ".py",
   "mimetype": "text/x-python",
   "name": "python",
   "nbconvert_exporter": "python",
   "pygments_lexer": "ipython3",
   "version": "3.7.7"
  }
 },
 "nbformat": 4,
 "nbformat_minor": 2
}
